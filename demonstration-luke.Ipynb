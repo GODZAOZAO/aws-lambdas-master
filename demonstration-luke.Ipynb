{
 "cells": [
  {
   "cell_type": "code",
   "execution_count": 216,
   "metadata": {},
   "outputs": [],
   "source": [
    "import requests\n",
    "import json\n",
    "from datetime import date, datetime, timedelta\n",
    "\"\"\"\n",
    "Place Authorization Token here\n",
    "\"\"\"\n",
    "AUTHORIZATION_TOKEN_1 = \"eyJraWQiOiJZeGo5Y1BDcnVyYndnTU9iSkN0Uk5VOXNCY0RvWDRtUDB6NDhGY1FDSVk4PSIsImFsZyI6IlJTMjU2In0.eyJzdWIiOiIwZDUxODI1ZC1jZjExLTQ4NDAtYmNlNC0zYWQyMjE1MDcxNjkiLCJlbWFpbF92ZXJpZmllZCI6dHJ1ZSwiaXNzIjoiaHR0cHM6XC9cL2NvZ25pdG8taWRwLnVzLWVhc3QtMS5hbWF6b25hd3MuY29tXC91cy1lYXN0LTFfTlpUMml0eWVKIiwiY29nbml0bzp1c2VybmFtZSI6ImJhdG1hbiIsIm9yaWdpbl9qdGkiOiIzMWNkMmQxOS1jMDFkLTQ1OTktODlhNS1lYTU1YTlkYjE5YjkiLCJhdWQiOiJkbTByaHEwZDFta3VzYm00cHFjcG85cm9nIiwiZXZlbnRfaWQiOiJlYzRjZTEyMS02NDBjLTQ3Y2YtOWQyNi1hYmNhMTBkNmYxNDYiLCJ0b2tlbl91c2UiOiJpZCIsImF1dGhfdGltZSI6MTY4MjQ3NzU4NCwiZXhwIjoxNjgyNDgxMTg0LCJpYXQiOjE2ODI0Nzc1ODQsImp0aSI6ImRhYzkxMGUwLWM0ZmItNGY5Yi1hZGRjLTUyZWM5YTk3NmViMSIsImVtYWlsIjoiYnJ1Y2VsaUB2dC5lZHUifQ.wlSWmyKbZzc0OcOFKnOYad9fLyGeJArUHJNMfnqfU_33lXSknA0qCOsIMkVEBxdo8uwKzuXrvIOiD27MrLTcwxvrIGuHNvSql6o3BXSO3aoACP8Fc0uzHT4pqXHEMdGaSyj-zjvCR5Ni9aFdFkRbP50VkVJpCKjmJKrGZzV1HvH73TwTjyGx2iG44TwER1-guWMS0_WgyEvUUKvHTrs4z_qjX97WFH3JNIWG5vSM6N4tFmj0gmLW-eba-ygqlbrSn7vYpzdnCi9MSuvbQoak2aPHcD1mOa9zCOHDpzKCho-HWpAiumcmCRKBl29AsF_00We1x_oXRFRZHBTWQ79H1g\"\n",
    "AUTHORIZATION_TOKEN_2 = \"eyJraWQiOiJZeGo5Y1BDcnVyYndnTU9iSkN0Uk5VOXNCY0RvWDRtUDB6NDhGY1FDSVk4PSIsImFsZyI6IlJTMjU2In0.eyJzdWIiOiJlMWJiOTNiNy01MTg0LTQ3NTYtOTcwZC1lNjU0NjI2Mjg4MmYiLCJlbWFpbF92ZXJpZmllZCI6dHJ1ZSwiaXNzIjoiaHR0cHM6XC9cL2NvZ25pdG8taWRwLnVzLWVhc3QtMS5hbWF6b25hd3MuY29tXC91cy1lYXN0LTFfTlpUMml0eWVKIiwiY29nbml0bzp1c2VybmFtZSI6InJvYmluIiwib3JpZ2luX2p0aSI6ImZiZTRiZGFkLTg4YTEtNDE4YS04YzljLWM5NmNmOWE1MzE1YiIsImF1ZCI6ImRtMHJocTBkMW1rdXNibTRwcWNwbzlyb2ciLCJldmVudF9pZCI6IjNjNGQ4OWVlLTY2NzEtNGE2YS1hNmU3LTlmZDBhOTZkMDQ4NSIsInRva2VuX3VzZSI6ImlkIiwiYXV0aF90aW1lIjoxNjgyNDc3NjUxLCJleHAiOjE2ODI0ODEyNTEsImlhdCI6MTY4MjQ3NzY1MSwianRpIjoiMTZmNDVkNzEtYmNlOS00NzZjLWIwMzMtNDNkYWZjYWVmODNjIiwiZW1haWwiOiJicnVjZWxpQHZ0LmVkdSJ9.rZeMwtxlfJ8Wegz7S5qDm1uIQ0z_mUC1CeB83zGCeJT6UFuPldtzw1zhS4mu0Dc9mJPdbVKAZKEdmIs2C2clGjP0rYlqY0j1_Ey7eYLDvQle_XtcbLuuHt3djNN36E6CZRUoBLAeLWyWSzfby-LyUoQDbi-4bzVi-BK4I1DC8f26IcS0nAiHFWXOAfy6QuO4wlVbKq0SxWNfl0LEYFrzOFw8cJKSg2orkAUcSoDNFaCqEuVE2QUyjCyzUSakF-lp1GPYrQT4H7_1cKn9WsZeeql_z_w0PRaJvZKdaYRNV9Mh9inTgvW6cgYjRYW-P4EBC496XT_-wfOMpAdw9jxosg\"\n",
    "\"\"\"\n",
    "The headers\n",
    "\"\"\"\n",
    "HEADERS_1 = {\n",
    "    'Content-Type': 'application/json',\n",
    "    'Authorization': AUTHORIZATION_TOKEN_1\n",
    "}\n",
    "HEADERS_2 = {\n",
    "    'Content-Type': 'application/json',\n",
    "    'Authorization': AUTHORIZATION_TOKEN_2\n",
    "}\n",
    "\"\"\"\n",
    "The URL\n",
    "\"\"\"\n",
    "URL = \"https://3t4azy5e1i.execute-api.us-east-1.amazonaws.com/test/\"\n",
    "\"\"\"\n",
    "Resources\n",
    "\"\"\"\n",
    "FOOD = \"/food\"\n",
    "PROFILE = \"/profile\"\n",
    "EXERCISE = \"/exercise\"\n",
    "FOLLOW = \"/following\"\n",
    "LIKE = \"/likes\"\n",
    "ENCOURAGE = \"/encourage\"\n",
    "POST = \"/posts\"\n",
    "SETTINGS = \"/settings\"\n"
   ]
  },
  {
   "cell_type": "code",
   "execution_count": 217,
   "metadata": {},
   "outputs": [],
   "source": [
    "import matplotlib.pyplot as plt\n",
    "def plot_data(x, y):\n",
    "    plt.plot(x, y)\n",
    "    plt.show()"
   ]
  },
  {
   "cell_type": "code",
   "execution_count": 218,
   "metadata": {},
   "outputs": [
    {
     "data": {
      "text/plain": [
       "{'following': {},\n",
       " 'logs': [{'date': '2023-04-26',\n",
       "   'users_liked': {},\n",
       "   'fitness_itemset': [],\n",
       "   'food_itemset': [],\n",
       "   'users_encouraged': {},\n",
       "   'weight_itemset': [],\n",
       "   'posts': [],\n",
       "   'reward_flags': {'target_calories_burned': False,\n",
       "    'target_calories_eaten': False,\n",
       "    'target_weight': False},\n",
       "   'points': 0}],\n",
       " 'login': {'last_login': '2023-04-26', 'login_streak': 1},\n",
       " 'settings': {'is_first_public': False,\n",
       "  'is_login_public': True,\n",
       "  'is_logs_public': True,\n",
       "  'is_target_weight_public': True,\n",
       "  'is_email_public': False,\n",
       "  'is_sex_public': True,\n",
       "  'is_target_calorie_exercised_public': True,\n",
       "  'is_profile_public': True,\n",
       "  'is_following_public': True,\n",
       "  'is_height_public': False,\n",
       "  'is_last_public': False,\n",
       "  'is_target_calorie_consumed_public': True},\n",
       " 'total_points': 0,\n",
       " 'username': 'robin',\n",
       " 'email': 'bruceli@vt.edu',\n",
       " 'personal': {'target_calorie_consumed': 2000,\n",
       "  'target_weight_kg': 75,\n",
       "  'last': 'LastName',\n",
       "  'height_cm': 160,\n",
       "  'sex': 'other',\n",
       "  'target_calorie_exercise': 500,\n",
       "  'first': 'FirstName'}}"
      ]
     },
     "execution_count": 218,
     "metadata": {},
     "output_type": "execute_result"
    }
   ],
   "source": [
    "PROFILE_URL = f\"{URL}{PROFILE}\"\n",
    "requests.get(PROFILE_URL, headers=HEADERS_1).json()\n",
    "requests.get(PROFILE_URL, headers=HEADERS_2).json()"
   ]
  },
  {
   "attachments": {},
   "cell_type": "markdown",
   "metadata": {},
   "source": [
    "# POST food"
   ]
  },
  {
   "cell_type": "code",
   "execution_count": 219,
   "metadata": {},
   "outputs": [
    {
     "data": {
      "text/plain": [
       "[<Response [200]>,\n",
       " <Response [200]>,\n",
       " <Response [200]>,\n",
       " <Response [200]>,\n",
       " <Response [200]>,\n",
       " <Response [200]>]"
      ]
     },
     "execution_count": 219,
     "metadata": {},
     "output_type": "execute_result"
    }
   ],
   "source": [
    "FOOD_URL = f\"{URL}{FOOD}\"\n",
    "\"\"\"\n",
    "Each food item for each day of a 6 day period\n",
    "\"\"\"\n",
    "delta = timedelta(days=1)\n",
    "todays_date = date.fromisoformat(\"2023-04-26\")\n",
    "food_items = [\n",
    "    \"1 cup of rice and quarter pound of white chicken meat\",\n",
    "    \"10oz Steak\",\n",
    "    \"2 cups of whole milk\",\n",
    "    \"A california roll\",\n",
    "    \"A cup of hot chocolate\",\n",
    "    \"Instant Ramen\"\n",
    "]\n",
    "food_items_dates = {}\n",
    "for idx, item in enumerate(food_items):\n",
    "    food_items_dates[str(todays_date - (delta * idx))] = item\n",
    "responses = []\n",
    "for this_day in food_items_dates:\n",
    "    data = {'date': this_day, 'calorieninja': food_items_dates[this_day]}\n",
    "    responses.append(requests.post(FOOD_URL, params=data, headers=HEADERS_1))\n",
    "responses"
   ]
  },
  {
   "cell_type": "code",
   "execution_count": 220,
   "metadata": {},
   "outputs": [
    {
     "data": {
      "text/plain": [
       "b'{\"message\": \"SUCCESS: Success!\", \"code\": \"200\"}'"
      ]
     },
     "execution_count": 220,
     "metadata": {},
     "output_type": "execute_result"
    }
   ],
   "source": [
    "responses[0].content"
   ]
  },
  {
   "attachments": {},
   "cell_type": "markdown",
   "metadata": {},
   "source": [
    "# GET food"
   ]
  },
  {
   "cell_type": "code",
   "execution_count": 221,
   "metadata": {},
   "outputs": [
    {
     "data": {
      "text/plain": [
       "[{'date': '2023-04-21',\n",
       "  'food_itemset': [{'sodium_mg': 284,\n",
       "    'sugar_g': 0.2,\n",
       "    'fat_total_g': 2.6,\n",
       "    'cholesterol_mg': 0,\n",
       "    'protein_g': 1.7,\n",
       "    'name': 'instant ramen',\n",
       "    'fiber_g': 0.5,\n",
       "    'calories': 68.7,\n",
       "    'serving_size_g': 100,\n",
       "    'fat_saturated_g': 1.2,\n",
       "    'carbohydrates_total_g': 9.4,\n",
       "    'potassium_mg': 17}]},\n",
       " {'date': '2023-04-22',\n",
       "  'food_itemset': [{'sodium_mg': 72,\n",
       "    'sugar_g': 9,\n",
       "    'fat_total_g': 0.5,\n",
       "    'cholesterol_mg': 0,\n",
       "    'protein_g': 0.9,\n",
       "    'name': 'hot chocolate',\n",
       "    'fiber_g': 0.5,\n",
       "    'calories': 54.2,\n",
       "    'serving_size_g': 100,\n",
       "    'fat_saturated_g': 0.3,\n",
       "    'carbohydrates_total_g': 11.4,\n",
       "    'potassium_mg': 42}]},\n",
       " {'date': '2023-04-23',\n",
       "  'food_itemset': [{'sodium_mg': 255,\n",
       "    'sugar_g': 3.3,\n",
       "    'fat_total_g': 6.9,\n",
       "    'cholesterol_mg': 8,\n",
       "    'protein_g': 4.2,\n",
       "    'name': 'california roll',\n",
       "    'fiber_g': 1.4,\n",
       "    'calories': 133.7,\n",
       "    'serving_size_g': 100,\n",
       "    'fat_saturated_g': 1.1,\n",
       "    'carbohydrates_total_g': 13.8,\n",
       "    'potassium_mg': 120}]},\n",
       " {'date': '2023-04-24',\n",
       "  'food_itemset': [{'sodium_mg': 207,\n",
       "    'sugar_g': 24.7,\n",
       "    'fat_total_g': 15.6,\n",
       "    'cholesterol_mg': 47,\n",
       "    'protein_g': 15.5,\n",
       "    'name': 'whole milk',\n",
       "    'fiber_g': 0,\n",
       "    'calories': 304.8,\n",
       "    'serving_size_g': 488,\n",
       "    'fat_saturated_g': 9.1,\n",
       "    'carbohydrates_total_g': 23.3,\n",
       "    'potassium_mg': 404}]},\n",
       " {'date': '2023-04-25',\n",
       "  'food_itemset': [{'sodium_mg': 147,\n",
       "    'sugar_g': 0,\n",
       "    'fat_total_g': 53.3,\n",
       "    'cholesterol_mg': 271,\n",
       "    'protein_g': 73.6,\n",
       "    'name': 'steak',\n",
       "    'fiber_g': 0,\n",
       "    'calories': 775.1,\n",
       "    'serving_size_g': 283.495,\n",
       "    'fat_saturated_g': 20.6,\n",
       "    'carbohydrates_total_g': 0,\n",
       "    'potassium_mg': 550}]},\n",
       " {'date': '2023-04-26',\n",
       "  'food_itemset': [{'sodium_mg': 1,\n",
       "    'sugar_g': 0.1,\n",
       "    'fat_total_g': 0.4,\n",
       "    'cholesterol_mg': 0,\n",
       "    'protein_g': 4.2,\n",
       "    'name': 'rice',\n",
       "    'fiber_g': 0.6,\n",
       "    'calories': 201.3,\n",
       "    'serving_size_g': 158,\n",
       "    'fat_saturated_g': 0.1,\n",
       "    'carbohydrates_total_g': 44.9,\n",
       "    'potassium_mg': 67},\n",
       "   {'sodium_mg': 387,\n",
       "    'sugar_g': 0,\n",
       "    'fat_total_g': 33,\n",
       "    'cholesterol_mg': 405,\n",
       "    'protein_g': 132.3,\n",
       "    'name': 'chicken meat',\n",
       "    'fiber_g': 0,\n",
       "    'calories': 868,\n",
       "    'serving_size_g': 453.592,\n",
       "    'fat_saturated_g': 9.3,\n",
       "    'carbohydrates_total_g': 0,\n",
       "    'potassium_mg': 895}]}]"
      ]
     },
     "execution_count": 221,
     "metadata": {},
     "output_type": "execute_result"
    }
   ],
   "source": [
    "TARGET_DATE = todays_date - (delta * len(food_items))\n",
    "\n",
    "response = requests.get(FOOD_URL, params={\"date\": TARGET_DATE}, headers=HEADERS_1)\n",
    "response.json()"
   ]
  },
  {
   "cell_type": "code",
   "execution_count": 222,
   "metadata": {},
   "outputs": [
    {
     "data": {
      "image/png": "[encoded data removed]",
      "text/plain": [
       "<Figure size 432x288 with 1 Axes>"
      ]
     },
     "metadata": {
      "needs_background": "light"
     },
     "output_type": "display_data"
    }
   ],
   "source": [
    "response = response.json()[:len(response.json()) - 1]\n",
    "plot_data(\n",
    "    x=[x[\"date\"] for x in response],\n",
    "    y=[sum([j[\"calories\"] for j in i[\"food_itemset\"]]) for i in response]\n",
    ")"
   ]
  },
  {
   "attachments": {},
   "cell_type": "markdown",
   "metadata": {},
   "source": [
    "### Let's add another food item on 2023-04-21!"
   ]
  },
  {
   "cell_type": "code",
   "execution_count": 223,
   "metadata": {},
   "outputs": [
    {
     "data": {
      "text/plain": [
       "b'{\"message\": \"SUCCESS: Success!\", \"code\": \"200\"}'"
      ]
     },
     "execution_count": 223,
     "metadata": {},
     "output_type": "execute_result"
    }
   ],
   "source": [
    "requests.post(FOOD_URL, params={\"date\": \"2023-04-21\", \"calorieninja\": \"Rice stuffing\"}, headers=HEADERS_1).content"
   ]
  },
  {
   "cell_type": "code",
   "execution_count": 224,
   "metadata": {},
   "outputs": [
    {
     "data": {
      "image/png": "[encoded data removed]",
      "text/plain": [
       "<Figure size 432x288 with 1 Axes>"
      ]
     },
     "metadata": {
      "needs_background": "light"
     },
     "output_type": "display_data"
    }
   ],
   "source": [
    "response = requests.get(FOOD_URL, params={\"date\": TARGET_DATE}, headers=HEADERS_1)\n",
    "response = response.json()\n",
    "plot_data(\n",
    "    x=[x[\"date\"] for x in response],\n",
    "    y=[sum([j[\"calories\"] for j in i[\"food_itemset\"]]) for i in response]\n",
    ")"
   ]
  },
  {
   "attachments": {},
   "cell_type": "markdown",
   "metadata": {},
   "source": [
    "# DELETE food"
   ]
  },
  {
   "attachments": {},
   "cell_type": "markdown",
   "metadata": {},
   "source": [
    "### Made a mistake! I didn't each chicken with rice, I ate beef with rice!"
   ]
  },
  {
   "cell_type": "code",
   "execution_count": 225,
   "metadata": {},
   "outputs": [
    {
     "data": {
      "text/plain": [
       "b'{\"message\": \"SUCCESS: Success!\", \"code\": \"200\"}'"
      ]
     },
     "execution_count": 225,
     "metadata": {},
     "output_type": "execute_result"
    }
   ],
   "source": [
    "requests.delete(FOOD_URL, params={\"date\": \"2023-04-26\", \"name\": \"chicken meat\"}, headers=HEADERS_1).content"
   ]
  },
  {
   "cell_type": "code",
   "execution_count": 226,
   "metadata": {},
   "outputs": [
    {
     "data": {
      "image/png": "[encoded data removed]",
      "text/plain": [
       "<Figure size 432x288 with 1 Axes>"
      ]
     },
     "metadata": {
      "needs_background": "light"
     },
     "output_type": "display_data"
    }
   ],
   "source": [
    "response = requests.get(FOOD_URL, params={\"date\": TARGET_DATE}, headers=HEADERS_1)\n",
    "response = response.json()\n",
    "plot_data(\n",
    "    x=[x[\"date\"] for x in response],\n",
    "    y=[sum([j[\"calories\"] for j in i[\"food_itemset\"]]) for i in response]\n",
    ")"
   ]
  },
  {
   "cell_type": "code",
   "execution_count": 227,
   "metadata": {},
   "outputs": [
    {
     "data": {
      "text/plain": [
       "b'{\"message\": \"SUCCESS: Success!\", \"code\": \"200\"}'"
      ]
     },
     "execution_count": 227,
     "metadata": {},
     "output_type": "execute_result"
    }
   ],
   "source": [
    "requests.post(FOOD_URL, params={\"date\": \"2023-04-26\", \"calorieninja\": \"one pound of beef\"}, headers=HEADERS_1).content"
   ]
  },
  {
   "cell_type": "code",
   "execution_count": 228,
   "metadata": {},
   "outputs": [
    {
     "data": {
      "image/png": "[encoded data removed]",
      "text/plain": [
       "<Figure size 432x288 with 1 Axes>"
      ]
     },
     "metadata": {
      "needs_background": "light"
     },
     "output_type": "display_data"
    }
   ],
   "source": [
    "response = requests.get(FOOD_URL, params={\"date\": TARGET_DATE}, headers=HEADERS_1)\n",
    "response = response.json()\n",
    "plot_data(\n",
    "    x=[x[\"date\"] for x in response],\n",
    "    y=[sum([j[\"calories\"] for j in i[\"food_itemset\"]]) for i in response]\n",
    ")"
   ]
  },
  {
   "cell_type": "code",
   "execution_count": 229,
   "metadata": {},
   "outputs": [],
   "source": [
    "for response_item in response:\n",
    "    date = response_item[\"date\"]\n",
    "    for food_item in response_item[\"food_itemset\"]:\n",
    "        requests.delete(FOOD_URL, params={\"date\": date, \"name\": food_item[\"name\"]}, headers=HEADERS_1)"
   ]
  },
  {
   "cell_type": "code",
   "execution_count": 230,
   "metadata": {},
   "outputs": [
    {
     "data": {
      "image/png": "[encoded data removed]",
      "text/plain": [
       "<Figure size 432x288 with 1 Axes>"
      ]
     },
     "metadata": {
      "needs_background": "light"
     },
     "output_type": "display_data"
    }
   ],
   "source": [
    "response = requests.get(FOOD_URL, params={\"date\": TARGET_DATE}, headers=HEADERS_1)\n",
    "response = response.json()[:len(response.json()) - 1]\n",
    "plot_data(\n",
    "    x=[x[\"date\"] for x in response],\n",
    "    y=[sum([j[\"calories\"] for j in i[\"food_itemset\"]]) for i in response]\n",
    ")"
   ]
  },
  {
   "attachments": {},
   "cell_type": "markdown",
   "metadata": {},
   "source": [
    "### This concept also applies to Weight and Exercise"
   ]
  },
  {
   "attachments": {},
   "cell_type": "markdown",
   "metadata": {},
   "source": [
    "# Personal Profile!"
   ]
  },
  {
   "cell_type": "code",
   "execution_count": 231,
   "metadata": {},
   "outputs": [
    {
     "data": {
      "text/plain": [
       "{'following': {},\n",
       " 'logs': [{'date': '2023-04-26',\n",
       "   'users_liked': {},\n",
       "   'fitness_itemset': [{'activity': 'pushups', 'calories_burned': '650'}],\n",
       "   'food_itemset': [],\n",
       "   'users_encouraged': {},\n",
       "   'weight_itemset': [],\n",
       "   'posts': [],\n",
       "   'reward_flags': {'target_calories_burned': True,\n",
       "    'target_calories_eaten': False,\n",
       "    'target_weight': False},\n",
       "   'points': 1}],\n",
       " 'login': {'last_login': '2023-04-26', 'login_streak': 1},\n",
       " 'settings': {'is_first_public': False,\n",
       "  'is_login_public': True,\n",
       "  'is_logs_public': True,\n",
       "  'is_target_weight_public': True,\n",
       "  'is_email_public': False,\n",
       "  'is_sex_public': True,\n",
       "  'is_target_calorie_exercised_public': True,\n",
       "  'is_profile_public': True,\n",
       "  'is_following_public': True,\n",
       "  'is_height_public': False,\n",
       "  'is_last_public': False,\n",
       "  'is_target_calorie_consumed_public': True},\n",
       " 'total_points': 1,\n",
       " 'username': 'batman',\n",
       " 'email': 'bruceli@vt.edu',\n",
       " 'personal': {'target_calorie_consumed': 4000,\n",
       "  'target_weight_kg': 90,\n",
       "  'last': 'Justice',\n",
       "  'height_cm': 190,\n",
       "  'sex': 'male',\n",
       "  'target_calorie_exercise': 600,\n",
       "  'first': 'Batman'}}"
      ]
     },
     "execution_count": 231,
     "metadata": {},
     "output_type": "execute_result"
    }
   ],
   "source": [
    "PROFILE_URL = f\"{URL}{PROFILE}\"\n",
    "response = requests.get(PROFILE_URL, headers=HEADERS_1)\n",
    "response.json()"
   ]
  },
  {
   "attachments": {},
   "cell_type": "markdown",
   "metadata": {},
   "source": [
    "### I wanna change my name and target goals!"
   ]
  },
  {
   "cell_type": "code",
   "execution_count": 232,
   "metadata": {},
   "outputs": [
    {
     "data": {
      "text/plain": [
       "b'{\"message\": \"SUCCESS: Success!\", \"code\": \"200\"}'"
      ]
     },
     "execution_count": 232,
     "metadata": {},
     "output_type": "execute_result"
    }
   ],
   "source": [
    "requests.post(PROFILE_URL, params={\n",
    "    \"first\": \"Batman\",\n",
    "    \"last\": \"Gordan\",\n",
    "    \"height_cm\": \"195\",\n",
    "    \"sex\": \"male\",\n",
    "    \"target_calorie_consumed\": 4000,\n",
    "    \"target_weight_kg\": 90, \n",
    "    \"target_calorie_exercise\": 600\n",
    "}, headers=HEADERS_1).content"
   ]
  },
  {
   "cell_type": "code",
   "execution_count": 233,
   "metadata": {},
   "outputs": [
    {
     "data": {
      "text/plain": [
       "{'following': {},\n",
       " 'logs': [{'date': '2023-04-26',\n",
       "   'users_liked': {},\n",
       "   'fitness_itemset': [{'activity': 'pushups', 'calories_burned': '650'}],\n",
       "   'food_itemset': [],\n",
       "   'users_encouraged': {},\n",
       "   'weight_itemset': [],\n",
       "   'posts': [],\n",
       "   'reward_flags': {'target_calories_burned': True,\n",
       "    'target_calories_eaten': False,\n",
       "    'target_weight': False},\n",
       "   'points': 1}],\n",
       " 'login': {'last_login': '2023-04-26', 'login_streak': 1},\n",
       " 'settings': {'is_first_public': False,\n",
       "  'is_login_public': True,\n",
       "  'is_logs_public': True,\n",
       "  'is_target_weight_public': True,\n",
       "  'is_email_public': False,\n",
       "  'is_sex_public': True,\n",
       "  'is_target_calorie_exercised_public': True,\n",
       "  'is_profile_public': True,\n",
       "  'is_following_public': True,\n",
       "  'is_height_public': False,\n",
       "  'is_last_public': False,\n",
       "  'is_target_calorie_consumed_public': True},\n",
       " 'total_points': 1,\n",
       " 'username': 'batman',\n",
       " 'email': 'bruceli@vt.edu',\n",
       " 'personal': {'target_calorie_consumed': 4000,\n",
       "  'target_weight_kg': 90,\n",
       "  'last': 'Gordan',\n",
       "  'height_cm': 195,\n",
       "  'sex': 'male',\n",
       "  'target_calorie_exercise': 600,\n",
       "  'first': 'Batman'}}"
      ]
     },
     "execution_count": 233,
     "metadata": {},
     "output_type": "execute_result"
    }
   ],
   "source": [
    "response = requests.get(PROFILE_URL, headers=HEADERS_1)\n",
    "response.json()"
   ]
  },
  {
   "attachments": {},
   "cell_type": "markdown",
   "metadata": {},
   "source": [
    "Batman did 1000 pushups and burned 650 calories"
   ]
  },
  {
   "cell_type": "code",
   "execution_count": 234,
   "metadata": {},
   "outputs": [
    {
     "data": {
      "text/plain": [
       "b'{\"message\": \"SUCCESS: Success!\", \"code\": \"200\"}'"
      ]
     },
     "execution_count": 234,
     "metadata": {},
     "output_type": "execute_result"
    }
   ],
   "source": [
    "EXERCISE_URL = f\"{URL}{EXERCISE}\"\n",
    "requests.post(EXERCISE_URL, params={\"activity\": \"pushups\", \"calories_burned\": 650}, headers=HEADERS_1).content"
   ]
  },
  {
   "cell_type": "code",
   "execution_count": 235,
   "metadata": {},
   "outputs": [
    {
     "data": {
      "text/plain": [
       "{'following': {},\n",
       " 'logs': [{'date': '2023-04-26',\n",
       "   'users_liked': {},\n",
       "   'fitness_itemset': [{'activity': 'pushups', 'calories_burned': '650'},\n",
       "    {'activity': 'pushups', 'calories_burned': '650'}],\n",
       "   'food_itemset': [],\n",
       "   'users_encouraged': {},\n",
       "   'weight_itemset': [],\n",
       "   'posts': [],\n",
       "   'reward_flags': {'target_calories_burned': True,\n",
       "    'target_calories_eaten': False,\n",
       "    'target_weight': False},\n",
       "   'points': 1}],\n",
       " 'login': {'last_login': '2023-04-26', 'login_streak': 1},\n",
       " 'settings': {'is_first_public': False,\n",
       "  'is_login_public': True,\n",
       "  'is_logs_public': True,\n",
       "  'is_target_weight_public': True,\n",
       "  'is_email_public': False,\n",
       "  'is_sex_public': True,\n",
       "  'is_target_calorie_exercised_public': True,\n",
       "  'is_profile_public': True,\n",
       "  'is_following_public': True,\n",
       "  'is_height_public': False,\n",
       "  'is_last_public': False,\n",
       "  'is_target_calorie_consumed_public': True},\n",
       " 'total_points': 1,\n",
       " 'username': 'batman',\n",
       " 'email': 'bruceli@vt.edu',\n",
       " 'personal': {'target_calorie_consumed': 4000,\n",
       "  'target_weight_kg': 90,\n",
       "  'last': 'Gordan',\n",
       "  'height_cm': 195,\n",
       "  'sex': 'male',\n",
       "  'target_calorie_exercise': 600,\n",
       "  'first': 'Batman'}}"
      ]
     },
     "execution_count": 235,
     "metadata": {},
     "output_type": "execute_result"
    }
   ],
   "source": [
    "response = requests.get(PROFILE_URL, headers=HEADERS_1)\n",
    "response.json()"
   ]
  },
  {
   "attachments": {},
   "cell_type": "markdown",
   "metadata": {},
   "source": [
    "### In order for Robin to like Batman, Batman first needs to follow Robin"
   ]
  },
  {
   "cell_type": "code",
   "execution_count": 237,
   "metadata": {},
   "outputs": [
    {
     "data": {
      "text/plain": [
       "b'{\"message\": \"SUCCESS: Success!\", \"code\": \"200\"}'"
      ]
     },
     "execution_count": 237,
     "metadata": {},
     "output_type": "execute_result"
    }
   ],
   "source": [
    "FOLLOWING_URL = f\"{URL}{FOLLOW}\"\n",
    "requests.post(FOLLOWING_URL, params={\"follower\": \"robin\"}, headers=HEADERS_1).content"
   ]
  },
  {
   "cell_type": "code",
   "execution_count": 238,
   "metadata": {},
   "outputs": [
    {
     "data": {
      "text/plain": [
       "{'robin': 1, 'demo-test2': 1}"
      ]
     },
     "execution_count": 238,
     "metadata": {},
     "output_type": "execute_result"
    }
   ],
   "source": [
    "requests.get(FOLLOWING_URL, headers=HEADERS_1).json()"
   ]
  },
  {
   "attachments": {},
   "cell_type": "markdown",
   "metadata": {},
   "source": [
    "### Robin, who is now trusted by Batman, can interact with Batman's profile. Robin likes batman's workout."
   ]
  },
  {
   "cell_type": "code",
   "execution_count": 239,
   "metadata": {},
   "outputs": [
    {
     "data": {
      "text/plain": [
       "b'{\"message\": \"SUCCESS: Success!\", \"code\": \"200\"}'"
      ]
     },
     "execution_count": 239,
     "metadata": {},
     "output_type": "execute_result"
    }
   ],
   "source": [
    "LIKE_URL = f\"{URL}{LIKE}\"\n",
    "requests.post(LIKE_URL, params={\"username\": \"batman\"}, headers=HEADERS_2).content"
   ]
  },
  {
   "cell_type": "code",
   "execution_count": 240,
   "metadata": {},
   "outputs": [
    {
     "data": {
      "text/plain": [
       "[{'date': '2023-04-26', 'users_liked': {'robin': 1}, 'points': 2}]"
      ]
     },
     "execution_count": 240,
     "metadata": {},
     "output_type": "execute_result"
    }
   ],
   "source": [
    "requests.get(LIKE_URL, headers=HEADERS_1).json()"
   ]
  },
  {
   "attachments": {},
   "cell_type": "markdown",
   "metadata": {},
   "source": [
    "### Additionally, Robin can send a hardcoded word of encouragement, because we want to make interactions friendly."
   ]
  },
  {
   "cell_type": "code",
   "execution_count": 241,
   "metadata": {},
   "outputs": [
    {
     "data": {
      "text/plain": [
       "b'{\"message\": \"SUCCESS: Success!\", \"code\": \"200\"}'"
      ]
     },
     "execution_count": 241,
     "metadata": {},
     "output_type": "execute_result"
    }
   ],
   "source": [
    "ENCOURAGE_URL = f\"{URL}{ENCOURAGE}\"\n",
    "requests.post(ENCOURAGE_URL, params={\"username\": \"batman\", \"type\": 4}, headers=HEADERS_2).content"
   ]
  },
  {
   "cell_type": "code",
   "execution_count": 242,
   "metadata": {},
   "outputs": [
    {
     "data": {
      "text/plain": [
       "[{'date': '2023-04-26', 'users_encouraged': {'robin': '4'}}]"
      ]
     },
     "execution_count": 242,
     "metadata": {},
     "output_type": "execute_result"
    }
   ],
   "source": [
    "requests.get(ENCOURAGE_URL, headers=HEADERS_1).json()"
   ]
  },
  {
   "attachments": {},
   "cell_type": "markdown",
   "metadata": {},
   "source": [
    "### Finally, Batman would like to thank Robin for being an inspiration to his workout."
   ]
  },
  {
   "cell_type": "code",
   "execution_count": 243,
   "metadata": {},
   "outputs": [
    {
     "data": {
      "text/plain": [
       "b'{\"message\": \"SUCCESS: Success!\", \"code\": \"200\"}'"
      ]
     },
     "execution_count": 243,
     "metadata": {},
     "output_type": "execute_result"
    }
   ],
   "source": [
    "POST_URL = f\"{URL}{POST}\"\n",
    "requests.post(POST_URL, params={\"post\": \"Thank you Robin for inspiring me to workout more\"}, headers=HEADERS_1).content"
   ]
  },
  {
   "cell_type": "code",
   "execution_count": 244,
   "metadata": {},
   "outputs": [
    {
     "data": {
      "text/plain": [
       "[{'date': '2023-04-26',\n",
       "  'posts': [{'post': 'Thank you Robin for inspiring me to workout more',\n",
       "    'time': '03:06:51'}]}]"
      ]
     },
     "execution_count": 244,
     "metadata": {},
     "output_type": "execute_result"
    }
   ],
   "source": [
    "requests.get(POST_URL, headers=HEADERS_1).json()"
   ]
  },
  {
   "attachments": {},
   "cell_type": "markdown",
   "metadata": {},
   "source": [
    "# Batman wants privacy."
   ]
  },
  {
   "cell_type": "code",
   "execution_count": 245,
   "metadata": {},
   "outputs": [
    {
     "data": {
      "text/plain": [
       "{'following': {'robin': 1, 'demo-test2': 1},\n",
       " 'logs': [{'date': '2023-04-26',\n",
       "   'users_liked': {'robin': 1},\n",
       "   'fitness_itemset': [{'activity': 'pushups', 'calories_burned': '650'},\n",
       "    {'activity': 'pushups', 'calories_burned': '650'}],\n",
       "   'food_itemset': [],\n",
       "   'users_encouraged': {'robin': '4'},\n",
       "   'weight_itemset': [],\n",
       "   'posts': [{'post': 'Thank you Robin for inspiring me to workout more',\n",
       "     'time': '03:06:51'}],\n",
       "   'reward_flags': {'target_calories_burned': True,\n",
       "    'target_calories_eaten': False,\n",
       "    'target_weight': False},\n",
       "   'points': 2}],\n",
       " 'login': {'last_login': '2023-04-26', 'login_streak': 1},\n",
       " 'settings': {'is_first_public': False,\n",
       "  'is_login_public': True,\n",
       "  'is_logs_public': True,\n",
       "  'is_target_weight_public': True,\n",
       "  'is_email_public': False,\n",
       "  'is_sex_public': True,\n",
       "  'is_target_calorie_exercised_public': True,\n",
       "  'is_profile_public': True,\n",
       "  'is_following_public': True,\n",
       "  'is_height_public': False,\n",
       "  'is_last_public': False,\n",
       "  'is_target_calorie_consumed_public': True},\n",
       " 'total_points': 2,\n",
       " 'username': 'batman',\n",
       " 'email': 'bruceli@vt.edu',\n",
       " 'personal': {'target_calorie_consumed': 4000,\n",
       "  'target_weight_kg': 90,\n",
       "  'last': 'Gordan',\n",
       "  'height_cm': 195,\n",
       "  'sex': 'male',\n",
       "  'target_calorie_exercise': 600,\n",
       "  'first': 'Batman'}}"
      ]
     },
     "execution_count": 245,
     "metadata": {},
     "output_type": "execute_result"
    }
   ],
   "source": [
    "response = requests.get(PROFILE_URL, headers=HEADERS_1)\n",
    "response.json()"
   ]
  },
  {
   "attachments": {},
   "cell_type": "markdown",
   "metadata": {},
   "source": [
    "### Other people can see his profile"
   ]
  },
  {
   "cell_type": "code",
   "execution_count": 246,
   "metadata": {},
   "outputs": [
    {
     "data": {
      "text/plain": [
       "{'following': {'robin': 1, 'demo-test2': 1},\n",
       " 'logs': [{'date': '2023-04-21',\n",
       "   'users_liked': {},\n",
       "   'fitness_itemset': [],\n",
       "   'food_itemset': [],\n",
       "   'users_encouraged': {},\n",
       "   'weight_itemset': [],\n",
       "   'posts': [],\n",
       "   'reward_flags': {'target_calories_burned': False,\n",
       "    'target_calories_eaten': False,\n",
       "    'target_weight': False},\n",
       "   'points': 0},\n",
       "  {'date': '2023-04-22',\n",
       "   'users_liked': {},\n",
       "   'fitness_itemset': [],\n",
       "   'food_itemset': [],\n",
       "   'users_encouraged': {},\n",
       "   'weight_itemset': [],\n",
       "   'posts': [],\n",
       "   'reward_flags': {'target_calories_burned': False,\n",
       "    'target_calories_eaten': False,\n",
       "    'target_weight': False},\n",
       "   'points': 0},\n",
       "  {'date': '2023-04-23',\n",
       "   'users_liked': {},\n",
       "   'fitness_itemset': [],\n",
       "   'food_itemset': [],\n",
       "   'users_encouraged': {},\n",
       "   'weight_itemset': [],\n",
       "   'posts': [],\n",
       "   'reward_flags': {'target_calories_burned': False,\n",
       "    'target_calories_eaten': False,\n",
       "    'target_weight': False},\n",
       "   'points': 0},\n",
       "  {'date': '2023-04-24',\n",
       "   'users_liked': {},\n",
       "   'fitness_itemset': [],\n",
       "   'food_itemset': [],\n",
       "   'users_encouraged': {},\n",
       "   'weight_itemset': [],\n",
       "   'posts': [],\n",
       "   'reward_flags': {'target_calories_burned': False,\n",
       "    'target_calories_eaten': False,\n",
       "    'target_weight': False},\n",
       "   'points': 0},\n",
       "  {'date': '2023-04-25',\n",
       "   'users_liked': {},\n",
       "   'fitness_itemset': [],\n",
       "   'food_itemset': [],\n",
       "   'users_encouraged': {},\n",
       "   'weight_itemset': [],\n",
       "   'posts': [],\n",
       "   'reward_flags': {'target_calories_burned': False,\n",
       "    'target_calories_eaten': False,\n",
       "    'target_weight': False},\n",
       "   'points': 0},\n",
       "  {'date': '2023-04-26',\n",
       "   'users_liked': {'robin': 1},\n",
       "   'fitness_itemset': [{'activity': 'pushups', 'calories_burned': '650'},\n",
       "    {'activity': 'pushups', 'calories_burned': '650'}],\n",
       "   'food_itemset': [],\n",
       "   'users_encouraged': {'robin': '4'},\n",
       "   'weight_itemset': [],\n",
       "   'posts': [{'post': 'Thank you Robin for inspiring me to workout more',\n",
       "     'time': '03:06:51'}],\n",
       "   'reward_flags': {'target_calories_burned': True,\n",
       "    'target_calories_eaten': False,\n",
       "    'target_weight': False},\n",
       "   'points': 2}],\n",
       " 'login': {'last_login': '2023-04-26', 'login_streak': 1},\n",
       " 'settings': {'is_first_public': False,\n",
       "  'is_login_public': True,\n",
       "  'is_logs_public': True,\n",
       "  'is_target_weight_public': True,\n",
       "  'is_email_public': False,\n",
       "  'is_sex_public': True,\n",
       "  'is_target_calorie_exercised_public': True,\n",
       "  'is_profile_public': True,\n",
       "  'is_following_public': True,\n",
       "  'is_height_public': False,\n",
       "  'is_last_public': False,\n",
       "  'is_target_calorie_consumed_public': True,\n",
       "  'email': None},\n",
       " 'total_points': 2,\n",
       " 'username': 'batman',\n",
       " 'email': 'bruceli@vt.edu',\n",
       " 'personal': {'target_calorie_consumed': 4000,\n",
       "  'target_weight_kg': 90,\n",
       "  'last': None,\n",
       "  'height_cm': None,\n",
       "  'sex': 'male',\n",
       "  'target_calorie_exercise': 600,\n",
       "  'first': None}}"
      ]
     },
     "execution_count": 246,
     "metadata": {},
     "output_type": "execute_result"
    }
   ],
   "source": [
    "response = requests.get(PROFILE_URL, params={\"username\": \"batman\"}, headers=HEADERS_2)\n",
    "response.json()"
   ]
  },
  {
   "attachments": {},
   "cell_type": "markdown",
   "metadata": {},
   "source": [
    "### Edit privacy settings"
   ]
  },
  {
   "cell_type": "code",
   "execution_count": 247,
   "metadata": {},
   "outputs": [
    {
     "data": {
      "text/plain": [
       "b'{\"message\": \"SUCCESS: Success!\", \"code\": \"200\"}'"
      ]
     },
     "execution_count": 247,
     "metadata": {},
     "output_type": "execute_result"
    }
   ],
   "source": [
    "SETTINGS_URL = f\"{URL}{SETTINGS}\"\n",
    "requests.post(SETTINGS_URL, params={\n",
    "    \"is_last_public\": False,\n",
    "    \"is_first_public\": False,\n",
    "    \"is_height_public\": False,\n",
    "    \"is_following_public\": False,\n",
    "    \"is_sex_public\": False,\n",
    "    \"is_target_calorie_consumed_public\": False,\n",
    "    \"is_target_calorie_exercised_public\": False,\n",
    "    \"is_target_weight_public\": False\n",
    "}, headers=HEADERS_1).content"
   ]
  },
  {
   "attachments": {},
   "cell_type": "markdown",
   "metadata": {},
   "source": [
    "### Sensitive values are cleaned when accessed by Robin :)"
   ]
  },
  {
   "cell_type": "code",
   "execution_count": 248,
   "metadata": {},
   "outputs": [
    {
     "data": {
      "text/plain": [
       "{'following': [],\n",
       " 'logs': [{'date': '2023-04-21',\n",
       "   'users_liked': {},\n",
       "   'fitness_itemset': [],\n",
       "   'food_itemset': [],\n",
       "   'users_encouraged': {},\n",
       "   'weight_itemset': [],\n",
       "   'posts': [],\n",
       "   'reward_flags': {'target_calories_burned': False,\n",
       "    'target_calories_eaten': False,\n",
       "    'target_weight': False},\n",
       "   'points': 0},\n",
       "  {'date': '2023-04-22',\n",
       "   'users_liked': {},\n",
       "   'fitness_itemset': [],\n",
       "   'food_itemset': [],\n",
       "   'users_encouraged': {},\n",
       "   'weight_itemset': [],\n",
       "   'posts': [],\n",
       "   'reward_flags': {'target_calories_burned': False,\n",
       "    'target_calories_eaten': False,\n",
       "    'target_weight': False},\n",
       "   'points': 0},\n",
       "  {'date': '2023-04-23',\n",
       "   'users_liked': {},\n",
       "   'fitness_itemset': [],\n",
       "   'food_itemset': [],\n",
       "   'users_encouraged': {},\n",
       "   'weight_itemset': [],\n",
       "   'posts': [],\n",
       "   'reward_flags': {'target_calories_burned': False,\n",
       "    'target_calories_eaten': False,\n",
       "    'target_weight': False},\n",
       "   'points': 0},\n",
       "  {'date': '2023-04-24',\n",
       "   'users_liked': {},\n",
       "   'fitness_itemset': [],\n",
       "   'food_itemset': [],\n",
       "   'users_encouraged': {},\n",
       "   'weight_itemset': [],\n",
       "   'posts': [],\n",
       "   'reward_flags': {'target_calories_burned': False,\n",
       "    'target_calories_eaten': False,\n",
       "    'target_weight': False},\n",
       "   'points': 0},\n",
       "  {'date': '2023-04-25',\n",
       "   'users_liked': {},\n",
       "   'fitness_itemset': [],\n",
       "   'food_itemset': [],\n",
       "   'users_encouraged': {},\n",
       "   'weight_itemset': [],\n",
       "   'posts': [],\n",
       "   'reward_flags': {'target_calories_burned': False,\n",
       "    'target_calories_eaten': False,\n",
       "    'target_weight': False},\n",
       "   'points': 0},\n",
       "  {'date': '2023-04-26',\n",
       "   'users_liked': {'robin': 1},\n",
       "   'fitness_itemset': [{'activity': 'pushups', 'calories_burned': '650'},\n",
       "    {'activity': 'pushups', 'calories_burned': '650'}],\n",
       "   'food_itemset': [],\n",
       "   'users_encouraged': {'robin': '4'},\n",
       "   'weight_itemset': [],\n",
       "   'posts': [{'post': 'Thank you Robin for inspiring me to workout more',\n",
       "     'time': '03:06:51'}],\n",
       "   'reward_flags': {'target_calories_burned': True,\n",
       "    'target_calories_eaten': False,\n",
       "    'target_weight': False},\n",
       "   'points': 2}],\n",
       " 'login': {'last_login': '2023-04-26', 'login_streak': 1},\n",
       " 'settings': {'is_first_public': False,\n",
       "  'is_login_public': True,\n",
       "  'is_logs_public': True,\n",
       "  'is_target_weight_public': False,\n",
       "  'is_email_public': False,\n",
       "  'is_sex_public': False,\n",
       "  'is_target_calorie_exercised_public': False,\n",
       "  'is_profile_public': True,\n",
       "  'is_following_public': False,\n",
       "  'is_height_public': False,\n",
       "  'is_last_public': False,\n",
       "  'is_target_calorie_consumed_public': False,\n",
       "  'email': None},\n",
       " 'total_points': 2,\n",
       " 'username': 'batman',\n",
       " 'email': 'bruceli@vt.edu',\n",
       " 'personal': {'target_calorie_consumed': None,\n",
       "  'target_weight_kg': None,\n",
       "  'last': None,\n",
       "  'height_cm': None,\n",
       "  'sex': None,\n",
       "  'target_calorie_exercise': None,\n",
       "  'first': None}}"
      ]
     },
     "execution_count": 248,
     "metadata": {},
     "output_type": "execute_result"
    }
   ],
   "source": [
    "response = requests.get(PROFILE_URL, params={\"username\": \"batman\"}, headers=HEADERS_2)\n",
    "response.json()"
   ]
  },
  {
   "cell_type": "code",
   "execution_count": 249,
   "metadata": {},
   "outputs": [
    {
     "data": {
      "text/plain": [
       "{'following': {'robin': 1, 'demo-test2': 1},\n",
       " 'logs': [{'date': '2023-04-26',\n",
       "   'users_liked': {'robin': 1},\n",
       "   'fitness_itemset': [{'activity': 'pushups', 'calories_burned': '650'},\n",
       "    {'activity': 'pushups', 'calories_burned': '650'}],\n",
       "   'food_itemset': [],\n",
       "   'users_encouraged': {'robin': '4'},\n",
       "   'weight_itemset': [],\n",
       "   'posts': [{'post': 'Thank you Robin for inspiring me to workout more',\n",
       "     'time': '03:06:51'}],\n",
       "   'reward_flags': {'target_calories_burned': True,\n",
       "    'target_calories_eaten': False,\n",
       "    'target_weight': False},\n",
       "   'points': 2}],\n",
       " 'login': {'last_login': '2023-04-26', 'login_streak': 1},\n",
       " 'settings': {'is_first_public': False,\n",
       "  'is_login_public': True,\n",
       "  'is_logs_public': True,\n",
       "  'is_target_weight_public': False,\n",
       "  'is_email_public': False,\n",
       "  'is_sex_public': False,\n",
       "  'is_target_calorie_exercised_public': False,\n",
       "  'is_profile_public': True,\n",
       "  'is_following_public': False,\n",
       "  'is_height_public': False,\n",
       "  'is_last_public': False,\n",
       "  'is_target_calorie_consumed_public': False},\n",
       " 'total_points': 2,\n",
       " 'username': 'batman',\n",
       " 'email': 'bruceli@vt.edu',\n",
       " 'personal': {'target_calorie_consumed': 4000,\n",
       "  'target_weight_kg': 90,\n",
       "  'last': 'Gordan',\n",
       "  'height_cm': 195,\n",
       "  'sex': 'male',\n",
       "  'target_calorie_exercise': 600,\n",
       "  'first': 'Batman'}}"
      ]
     },
     "execution_count": 249,
     "metadata": {},
     "output_type": "execute_result"
    }
   ],
   "source": [
    "response = requests.get(PROFILE_URL, headers=HEADERS_1)\n",
    "response.json()"
   ]
  }
 ],
 "metadata": {
  "kernelspec": {
   "display_name": "Python 3",
   "language": "python",
   "name": "python3"
  },
  "language_info": {
   "codemirror_mode": {
    "name": "ipython",
    "version": 3
   },
   "file_extension": ".py",
   "mimetype": "text/x-python",
   "name": "python",
   "nbconvert_exporter": "python",
   "pygments_lexer": "ipython3",
   "version": "3.9.1"
  },
  "orig_nbformat": 4
 },
 "nbformat": 4,
 "nbformat_minor": 2
}
